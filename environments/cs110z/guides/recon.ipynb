{
 "cells": [
  {
   "cell_type": "markdown",
   "metadata": {
    "collapsed": true,
    "pycharm": {
     "name": "#%% md\n"
    }
   },
   "source": [
    "# Cyber Attack Methodology\n",
    "#### Step 1: Reconnaissance\n",
    "###### Author: 2d Lt James Lynch\n",
    "\n",
    "\n"
   ]
  },
  {
   "cell_type": "markdown",
   "source": [
    "Welcome to the Cyber Attack Demo system! These will be presented to you in the form of a [Jupyter Notebook](https://towardsdatascience.com/a-beginners-tutorial-to-jupyter-notebooks-1b2f8705888a), an interactive Python shell that allows you to run code that's written in \"cells\" among the instructions you see here.\n",
    "\n",
    "Some basic commands to get you through: \n",
    "+ `ctrl + enter` will execute the code in a cell\n",
    "+ Double-clicking on a cell will edit it\n",
    "+ The `escape` key will take you out of the cell you're currently editing.\n",
    "\n",
    "**Hint:** If at any time you think your Notebook is frozen, go ahead and select `Kernel -> Restart Kernel` in the menu.\n",
    "\n",
    "Go ahead and try to execute the code below!"
   ],
   "metadata": {
    "collapsed": false,
    "pycharm": {
     "name": "#%% md\n"
    }
   }
  },
  {
   "cell_type": "code",
   "execution_count": 1,
   "outputs": [
    {
     "name": "stdout",
     "text": [
      "Get to the Cyber stuff already!\n"
     ],
     "output_type": "stream"
    }
   ],
   "source": [
    "# This cell has code in it. If you select it and hit ctrl-enter, it will run!\n",
    "print(\"Get to the Cyber stuff already!\")\n",
    "\n"
   ],
   "metadata": {
    "collapsed": false,
    "pycharm": {
     "name": "#%%\n",
     "is_executing": false
    }
   }
  },
  {
   "cell_type": "code",
   "execution_count": 5,
   "outputs": [
    {
     "name": "stdout",
     "text": [
      "Microsoft Windows [Version 10.0.18363.657]\r\n",
      "(c) 2019 Microsoft Corporation. All rights reserved.\r\n",
      "\r\n",
      "(venv) C:\\Users\\James\\PycharmProjects\\battleSchool\\environments\\cs110z\\guides>\n",
      "(venv) C:\\Users\\James\\PycharmProjects\\battleSchool\\environments\\cs110z\\guides>"
     ],
     "output_type": "stream"
    }
   ],
   "source": [
    "%%bash\n"
   ],
   "metadata": {
    "collapsed": false,
    "pycharm": {
     "name": "#%%\n",
     "is_executing": false
    }
   }
  }
 ],
 "metadata": {
  "kernelspec": {
   "display_name": "Python 3",
   "language": "python",
   "name": "python3"
  },
  "language_info": {
   "codemirror_mode": {
    "name": "ipython",
    "version": 2
   },
   "file_extension": ".py",
   "mimetype": "text/x-python",
   "name": "python",
   "nbconvert_exporter": "python",
   "pygments_lexer": "ipython2",
   "version": "2.7.6"
  },
  "pycharm": {
   "stem_cell": {
    "cell_type": "raw",
    "source": [],
    "metadata": {
     "collapsed": false
    }
   }
  }
 },
 "nbformat": 4,
 "nbformat_minor": 0
}