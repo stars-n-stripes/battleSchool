{
 "cells": [
  {
   "cell_type": "markdown",
   "metadata": {
    "collapsed": true,
    "pycharm": {
     "name": "#%% md\n"
    }
   },
   "source": [
    "# Cyber Attack Methodology\n",
    "#### Step 1: Reconnaissance\n",
    "###### Author: 2d Lt James Lynch\n",
    "\n",
    "\n"
   ]
  },
  {
   "cell_type": "markdown",
   "source": [
    "Welcome to the Cyber Attack Demo system! These will be presented to you in the form of a [Jupyter Notebook](https://towardsdatascience.com/a-beginners-tutorial-to-jupyter-notebooks-1b2f8705888a), an interactive Python shell that allows you to run code that's written in \"cells\" among the instructions you see here.\n",
    "\n",
    "Some basic commands to get you through: \n",
    "+ `ctrl + enter` will execute the code in a cell\n",
    "+ Double-clicking on a cell will edit it\n",
    "+ The `escape` key will take you out of the cell you're currently editing.\n",
    "\n",
    "**Hint:** If at any time you think your Notebook is frozen, go ahead and select `Kernel -> Restart Kernel` in the menu.\n",
    "\n",
    "Go ahead and try to execute the code below!"
   ],
   "metadata": {
    "collapsed": false,
    "pycharm": {
     "name": "#%% md\n"
    }
   }
  },
  {
   "cell_type": "code",
   "execution_count": 1,
   "outputs": [
    {
     "name": "stdout",
     "text": [
      "Get to the Cyber stuff already!\n"
     ],
     "output_type": "stream"
    }
   ],
   "source": [
    "# This cell has code in it. If you select it and hit ctrl-enter, it will run!\n",
    "print(\"Get to the Cyber stuff already!\")\n",
    "\n"
   ],
   "metadata": {
    "collapsed": false,
    "pycharm": {
     "name": "#%%\n",
     "is_executing": false
    }
   }
  },
  {
   "cell_type": "code",
   "execution_count": 7,
   "outputs": [
    {
     "name": "stdout",
     "text": [
      "9: eth0: <BROADCAST,MULTICAST,UP> mtu 1500 group default qlen 1\n",
      "    link/ether 1c:1b:0d:08:cb:a8\n",
      "    inet 192.168.86.84/24 brd 192.168.86.255 scope global dynamic \n",
      "       valid_lft 47928sec preferred_lft 47928sec\n",
      "    inet6 fe80::91c8:6e30:1b16:d9e0/64 scope link dynamic \n",
      "       valid_lft forever preferred_lft forever\n",
      "18: eth1: <> mtu 1500 group default qlen 1\n",
      "    link/ether 00:ff:8b:29:70:c0\n",
      "    inet 169.254.209.106/16 brd 169.254.255.255 scope global dynamic \n",
      "       valid_lft forever preferred_lft forever\n",
      "    inet6 fe80::a0d4:27d4:7ad8:d16a/64 scope link dynamic \n",
      "       valid_lft forever preferred_lft forever\n",
      "17: eth2: <BROADCAST,MULTICAST,UP> mtu 1500 group default qlen 1\n",
      "    link/ether 0a:00:27:00:00:11\n",
      "    inet 192.168.26.1/24 brd 192.168.26.255 scope global dynamic \n",
      "       valid_lft forever preferred_lft forever\n",
      "    inet6 fe80::f04e:cbed:42a2:668d/64 scope link dynamic \n",
      "       valid_lft forever preferred_lft forever\n",
      "25: eth3: <BROADCAST,MULTICAST,UP> mtu 1500 group default qlen 1\n",
      "    link/ether 0a:00:27:00:00:19\n",
      "    inet 192.168.56.1/24 brd 192.168.56.255 scope global dynamic \n",
      "       valid_lft forever preferred_lft forever\n",
      "    inet6 fe80::f04f:4946:1a8a:28b9/64 scope link dynamic \n",
      "       valid_lft forever preferred_lft forever\n",
      "3: eth4: <> mtu 1500 group default qlen 1\n",
      "    link/ether 00:ff:16:ef:89:f0\n",
      "    inet 169.254.104.206/16 brd 169.254.255.255 scope global dynamic \n",
      "       valid_lft forever preferred_lft forever\n",
      "    inet6 fe80::9409:5d9d:3886:68ce/64 scope link dynamic \n",
      "       valid_lft forever preferred_lft forever\n",
      "4: eth5: <BROADCAST,MULTICAST,UP> mtu 1500 group default qlen 1\n",
      "    link/ether 00:50:56:c0:00:01\n",
      "    inet 192.168.248.1/24 brd 192.168.248.255 scope global dynamic \n",
      "       valid_lft 1729sec preferred_lft 1729sec\n",
      "    inet6 fe80::8840:8d6a:bf63:cb62/64 scope link dynamic \n",
      "       valid_lft forever preferred_lft forever\n",
      "12: eth6: <BROADCAST,MULTICAST,UP> mtu 1500 group default qlen 1\n",
      "    link/ether 00:50:56:c0:00:08\n",
      "    inet 192.168.106.1/24 brd 192.168.106.255 scope global dynamic \n",
      "       valid_lft 1729sec preferred_lft 1729sec\n",
      "    inet6 fe80::98c5:bd5e:dba8:33de/64 scope link dynamic \n",
      "       valid_lft forever preferred_lft forever\n",
      "16: eth7: <BROADCAST,MULTICAST,UP> mtu 1500 group default qlen 1\n",
      "    link/ether 7a:79:19:02:2a:55\n",
      "    inet 25.2.42.85/8 brd 25.255.255.255 scope global dynamic \n",
      "       valid_lft 31140842sec preferred_lft 31140842sec\n",
      "    inet6 2620:9b::1902:2a55/64 scope global dynamic \n",
      "       valid_lft forever preferred_lft forever\n",
      "    inet6 fe80::5c24:9725:139f:f2ef/64 scope link dynamic \n",
      "       valid_lft forever preferred_lft forever\n",
      "1: lo: <LOOPBACK,UP> mtu 1500 group default qlen 1\n",
      "    link/loopback 00:00:00:00:00:00\n",
      "    inet 127.0.0.1/8 brd 127.255.255.255 scope global dynamic \n",
      "       valid_lft forever preferred_lft forever\n",
      "    inet6 ::1/128 scope host dynamic \n",
      "       valid_lft forever preferred_lft forever\n",
      "27: wifi0: <> mtu 1500 group default qlen 1\n",
      "    link/ieee802.11 40:b0:76:4b:76:5b\n",
      "    inet 169.254.109.223/16 brd 169.254.255.255 scope global dynamic \n",
      "       valid_lft forever preferred_lft forever\n",
      "    inet6 fe80::346f:1ab6:cf82:6ddf/64 scope link dynamic \n",
      "       valid_lft forever preferred_lft forever\n",
      "26: wifi1: <> mtu 1500 group default qlen 1\n",
      "    link/ieee802.11 40:b0:76:4b:76:5b\n",
      "    inet 169.254.70.17/16 brd 169.254.255.255 scope global dynamic \n",
      "       valid_lft forever preferred_lft forever\n",
      "    inet6 fe80::8c2e:dd16:e0f3:4611/64 scope link dynamic \n",
      "       valid_lft forever preferred_lft forever\n"
     ],
     "output_type": "stream"
    }
   ],
   "source": [
    "%%bash # This command lets us run Linux commands, like how the Command Prompt for Windows works.\n",
    "# Whenever you see %%bash, don't touch it!\n",
    "\n",
    "# The following command will show you the ip address information for this computer!\n",
    "ip a"
   ],
   "metadata": {
    "collapsed": false,
    "pycharm": {
     "name": "#%%\n",
     "is_executing": false
    }
   }
  },
  {
   "cell_type": "markdown",
   "source": [
    "**Note:** if you ever want to get rid of a lot of output, hit `o` after running a cell!\n",
    "\n",
    "## Passive and Active Reconnaissance\n",
    "\n",
    "In the **Cyber Attack Methodology**, there are two major versions of reconnaissance:\n",
    "+ *Passive* reconnaissance is doing recon without directly accessing the resource you're trying to gain information from. This includes:\n",
    "    + Social media research\n",
    "    + Open-source research (Wikipedia, news outlets, etc.)\n",
    "    + [Google Dorking](https://en.wikipedia.org/wiki/Google_hacking), also known as **Google Hacking**, uses [advanced Google features](https://support.google.com/websearch/answer/2466433?visit_id=637181585145480461-3193999332&rd=1) to sift through files and search results that Google has already done the legwork to collect.\n",
    "        + [Try it here!](https://pentest-tools.com/information-gathering/google-hacking) \n",
    "    + Dumpster-diving for documents, ID badges, etc. ([we're not joking](https://www.oreilly.com/library/view/unauthorised-access-physical/9780470747612/9780470747612_dumpster_diving.html))\n",
    "    \n",
    "#### Question 1:\n",
    "Go ahead and open a new tab in this browser and do a Google search with the following text:\n",
    "\n",
    "`usafa filetype:xlsx dfas`\n",
    "\n",
    "How much is the \"Dov Amnt\" for the Vendor \"3D SYSTEMS, INC.\"?"
   ],
   "metadata": {
    "collapsed": false,
    "pycharm": {
     "name": "#%% md\n"
    }
   }
  },
  {
   "cell_type": "markdown",
   "source": [
    "+ *Active* reconnaissance happens when we actually interact with the service we're trying to gain information from. For instance, if we were to do active recon on Amazon.com (**don't** do this), it might involve going to the website and poking through the store to figure out if there's anything unexpected there. This is different from *scanning* Amazon.com (**really don't do this.**), where we would connect to Amazon services with the *intent* to discover if they possessed vulnerabilities.\n",
    "\n",
    "+ [`nmap`](nmap.org) is a popular tool for active reconnaissance among security professionals. What makes it nice is that it can *automate* a bunch of recon tasks that would otherwise be quite time-consuming. \n",
    "\n",
    "Let's try some examples here:\n"
   ],
   "metadata": {
    "collapsed": false,
    "pycharm": {
     "name": "#%% md\n"
    }
   }
  },
  {
   "cell_type": "code",
   "execution_count": null,
   "outputs": [],
   "source": [
    "# A ping-sweep is a common form of active reconnaissance wherein we use the networking version of waving our hand and saying \"hello\" (\"ping\") to the room we're currently in (\"sweep\")\n",
    "\n",
    "%% bash # <- don't touch this!\n",
    "nmap -sP 10.0.0.0-255\n",
    "\n"
   ],
   "metadata": {
    "collapsed": false,
    "pycharm": {
     "name": "#%%\n"
    }
   }
  },
  {
   "cell_type": "markdown",
   "source": [
    "#### Question 2:\n",
    "What IP address(es) replied to your ping?"
   ],
   "metadata": {
    "collapsed": false
   }
  },
  {
   "cell_type": "code",
   "execution_count": null,
   "outputs": [],
   "source": [
    "# Now that we know who else is on our network and willing to talk, let's take a closer look at which services they are running. \n",
    "# In the spot labeled [TARGET IP(S)], put any IP address(es) that replied to your ping\n",
    "# If there's more than one IP, separate them with commas (i.e., 192.168.0.2,192.168.0.3)\n",
    "\n",
    "%% bash # <- don't touch this!\n",
    "nmap -sV [TARGET IP(S)]\n",
    "\n"
   ],
   "metadata": {
    "collapsed": false,
    "pycharm": {
     "name": "#%%\n"
    }
   }
  }
 ],
 "metadata": {
  "kernelspec": {
   "display_name": "Python 3",
   "language": "python",
   "name": "python3"
  },
  "language_info": {
   "codemirror_mode": {
    "name": "ipython",
    "version": 2
   },
   "file_extension": ".py",
   "mimetype": "text/x-python",
   "name": "python",
   "nbconvert_exporter": "python",
   "pygments_lexer": "ipython2",
   "version": "2.7.6"
  },
  "pycharm": {
   "stem_cell": {
    "cell_type": "raw",
    "source": [],
    "metadata": {
     "collapsed": false
    }
   }
  }
 },
 "nbformat": 4,
 "nbformat_minor": 0
}